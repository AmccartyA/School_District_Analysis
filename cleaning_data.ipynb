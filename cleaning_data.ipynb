{
 "cells": [
  {
   "cell_type": "code",
   "execution_count": 14,
   "id": "f2aa17e6",
   "metadata": {},
   "outputs": [
    {
     "data": {
      "text/plain": [
       "Student ID        int64\n",
       "student_name     object\n",
       "gender           object\n",
       "grade            object\n",
       "school_name      object\n",
       "reading_score     int64\n",
       "math_score        int64\n",
       "dtype: object"
      ]
     },
     "execution_count": 14,
     "metadata": {},
     "output_type": "execute_result"
    }
   ],
   "source": [
    "#Depend on Pandas\n",
    "import pandas as pd\n",
    "import os\n",
    "\n",
    "file_to_load_grades = os.path.join(\"Resources\", \"missing_grades.csv\")\n",
    "file_to_load_school = os.path.join(\"Resources\", \"schools_complete.csv\")\n",
    "file_to_load_student = os.path.join(\"Resources\", \"students_complete.csv\")\n",
    "\n",
    "\n",
    "#reader\n",
    "missing_grades_df = pd.read_csv(file_to_load_grades)\n",
    "school_data_df = pd.read_csv(file_to_load_school)\n",
    "student_data_df = pd.read_csv(file_to_load_student)\n",
    "student_data_df.dtypes\n"
   ]
  }
 ],
 "metadata": {
  "kernelspec": {
   "display_name": "PythonData",
   "language": "python",
   "name": "pythondata"
  },
  "language_info": {
   "codemirror_mode": {
    "name": "ipython",
    "version": 3
   },
   "file_extension": ".py",
   "mimetype": "text/x-python",
   "name": "python",
   "nbconvert_exporter": "python",
   "pygments_lexer": "ipython3",
   "version": "3.9.12"
  }
 },
 "nbformat": 4,
 "nbformat_minor": 5
}
